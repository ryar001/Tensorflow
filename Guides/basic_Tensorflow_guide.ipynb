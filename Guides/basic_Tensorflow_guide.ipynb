{
  "nbformat": 4,
  "nbformat_minor": 0,
  "metadata": {
    "colab": {
      "name": "basic Tensorflow guide",
      "provenance": [],
      "collapsed_sections": [],
      "authorship_tag": "ABX9TyNBPX/w2/u40rU+Ja+8liaR",
      "include_colab_link": true
    },
    "kernelspec": {
      "name": "python3",
      "display_name": "Python 3"
    },
    "language_info": {
      "name": "python"
    }
  },
  "cells": [
    {
      "cell_type": "markdown",
      "metadata": {
        "id": "view-in-github",
        "colab_type": "text"
      },
      "source": [
        "<a href=\"https://colab.research.google.com/github/ryar001/Tensorflow/blob/main/Guides/basic_Tensorflow_guide.ipynb\" target=\"_parent\"><img src=\"https://colab.research.google.com/assets/colab-badge.svg\" alt=\"Open In Colab\"/></a>"
      ]
    },
    {
      "cell_type": "code",
      "metadata": {
        "colab": {
          "base_uri": "https://localhost:8080/"
        },
        "id": "Ha8nLXQ0309I",
        "outputId": "53012af7-e582-4758-b91b-1bbf6206782d"
      },
      "source": [
        "from google.colab import drive\n",
        "drive.mount('gdrive')\n"
      ],
      "execution_count": null,
      "outputs": [
        {
          "output_type": "stream",
          "text": [
            "Drive already mounted at gdrive; to attempt to forcibly remount, call drive.mount(\"gdrive\", force_remount=True).\n"
          ],
          "name": "stdout"
        }
      ]
    },
    {
      "cell_type": "code",
      "metadata": {
        "colab": {
          "base_uri": "https://localhost:8080/"
        },
        "id": "6E5N4uj4wr7M",
        "outputId": "f3f0b9fc-b500-47fa-e731-9246ec11a35e"
      },
      "source": [
        "import os \n",
        "os.listdir( r'/content/gdrive/MyDrive/My python files/lib')"
      ],
      "execution_count": null,
      "outputs": [
        {
          "output_type": "execute_result",
          "data": {
            "text/plain": [
              "['johansen.py',\n",
              " 'Pickle.py',\n",
              " 'OandaAPI_keys.csv',\n",
              " 'A_st.py',\n",
              " '__pycache__',\n",
              " 'IEX_apikey.txt',\n",
              " 'TD_scanner.py',\n",
              " 'get_stock_list.py',\n",
              " 'TD_get.py',\n",
              " 'Timer.py',\n",
              " '.ipynb_checkpoints',\n",
              " 'SIM TRADER_TO CSV.ipynb',\n",
              " 'rolling_stats.py',\n",
              " 'stock_get.py',\n",
              " 'Hrly_ret.py',\n",
              " 'Black_Scholes.ipynb',\n",
              " 'Summary.py',\n",
              " 'Forex_pair.py',\n",
              " 'obj',\n",
              " 'Spread_trading.py',\n",
              " 'DCE_products.csv',\n",
              " 'DCE_products.xls',\n",
              " 'Get_Active_contract.py',\n",
              " 'Backtester.py',\n",
              " 'util.py',\n",
              " 'req.txt',\n",
              " 'Backtester_v1_1.py']"
            ]
          },
          "metadata": {
            "tags": []
          },
          "execution_count": 4
        }
      ]
    },
    {
      "cell_type": "code",
      "metadata": {
        "id": "4feUwa_54bDs",
        "colab": {
          "base_uri": "https://localhost:8080/"
        },
        "outputId": "93ef3d69-396e-4dd7-b4f6-e90371e680da"
      },
      "source": [
        "import sys\n",
        "sys.path.append(  r'/content/gdrive/MyDrive/My python files/lib')\n",
        "sys.path"
      ],
      "execution_count": null,
      "outputs": [
        {
          "output_type": "execute_result",
          "data": {
            "text/plain": [
              "['',\n",
              " '/content',\n",
              " '/env/python',\n",
              " '/usr/lib/python37.zip',\n",
              " '/usr/lib/python3.7',\n",
              " '/usr/lib/python3.7/lib-dynload',\n",
              " '/usr/local/lib/python3.7/dist-packages',\n",
              " '/usr/lib/python3/dist-packages',\n",
              " '/usr/local/lib/python3.7/dist-packages/IPython/extensions',\n",
              " '/root/.ipython',\n",
              " '/content/gdrive/MyDrive/My python files/lib']"
            ]
          },
          "metadata": {
            "tags": []
          },
          "execution_count": 5
        }
      ]
    },
    {
      "cell_type": "markdown",
      "metadata": {
        "id": "c3fJHvv44YbN"
      },
      "source": [
        "m"
      ]
    },
    {
      "cell_type": "code",
      "metadata": {
        "id": "e1G3Jeh74a1C",
        "colab": {
          "base_uri": "https://localhost:8080/",
          "height": 129
        },
        "outputId": "70854ec8-3a18-414a-9873-91005937dfb5"
      },
      "source": [
        "import numpy as np\n",
        "import pandas as pd\n",
        "import matplotlib.pyplot as plt\n",
        "import tensorflow as tf\n",
        "from pathlib import Path\n",
        "import tensorflow.keras.datasets as tdfs\n",
        "\n",
        "import importlib\n",
        "import Backtester_v1_1 as BT\n",
        "importlib.reload(BT)\n",
        "import util\n",
        "importlib.reload(util)"
      ],
      "execution_count": null,
      "outputs": [
        {
          "output_type": "error",
          "ename": "SyntaxError",
          "evalue": "ignored",
          "traceback": [
            "\u001b[0;36m  File \u001b[0;32m\"/content/gdrive/MyDrive/My python files/lib/util.py\"\u001b[0;36m, line \u001b[0;32m26\u001b[0m\n\u001b[0;31m    self.__init__(self,dataset_name='fashion_mnist'):\u001b[0m\n\u001b[0m                                                     ^\u001b[0m\n\u001b[0;31mSyntaxError\u001b[0m\u001b[0;31m:\u001b[0m invalid syntax\n"
          ]
        }
      ]
    },
    {
      "cell_type": "code",
      "metadata": {
        "id": "-u4momkwuPnK"
      },
      "source": [
        "(x_train, x_test), (y_train, y_labels) =tdfs.fashion_mnist.load_data()"
      ],
      "execution_count": null,
      "outputs": []
    },
    {
      "cell_type": "code",
      "metadata": {
        "colab": {
          "base_uri": "https://localhost:8080/",
          "height": 180
        },
        "id": "yS1LculTxPsD",
        "outputId": "9d88b15c-a143-4143-9e69-35ac40ffbadb"
      },
      "source": [
        "labels=util.labels('fashion_mnist')\n",
        "labels"
      ],
      "execution_count": null,
      "outputs": [
        {
          "output_type": "error",
          "ename": "NameError",
          "evalue": "ignored",
          "traceback": [
            "\u001b[0;31m---------------------------------------------------------------------------\u001b[0m",
            "\u001b[0;31mNameError\u001b[0m                                 Traceback (most recent call last)",
            "\u001b[0;32m<ipython-input-16-192a188380e0>\u001b[0m in \u001b[0;36m<module>\u001b[0;34m()\u001b[0m\n\u001b[0;32m----> 1\u001b[0;31m \u001b[0mlabels\u001b[0m\u001b[0;34m=\u001b[0m\u001b[0mutil\u001b[0m\u001b[0;34m.\u001b[0m\u001b[0mlabels\u001b[0m\u001b[0;34m(\u001b[0m\u001b[0;34m'fashion_mnist'\u001b[0m\u001b[0;34m)\u001b[0m\u001b[0;34m\u001b[0m\u001b[0;34m\u001b[0m\u001b[0m\n\u001b[0m\u001b[1;32m      2\u001b[0m \u001b[0mlabels\u001b[0m\u001b[0;34m\u001b[0m\u001b[0;34m\u001b[0m\u001b[0m\n",
            "\u001b[0;31mNameError\u001b[0m: name 'util' is not defined"
          ]
        }
      ]
    },
    {
      "cell_type": "code",
      "metadata": {
        "id": "ikQFO6ARvzs6"
      },
      "source": [
        "type(x_train)"
      ],
      "execution_count": null,
      "outputs": []
    },
    {
      "cell_type": "code",
      "metadata": {
        "id": "aYgVcgrVu6pi"
      },
      "source": [
        "# split into validation data\n",
        "x_train,x_valid=x_train[:5000]/255,x_train[5000:]/255\n",
        "y_train,y_valid=y_train[:5000]/255,y_train[5000:]/255"
      ],
      "execution_count": null,
      "outputs": []
    },
    {
      "cell_type": "code",
      "metadata": {
        "id": "Z8bYpQRhu76M"
      },
      "source": [
        ""
      ],
      "execution_count": null,
      "outputs": []
    }
  ]
}